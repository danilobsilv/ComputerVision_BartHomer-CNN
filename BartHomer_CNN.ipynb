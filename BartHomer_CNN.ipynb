{
  "nbformat": 4,
  "nbformat_minor": 0,
  "metadata": {
    "colab": {
      "provenance": []
    },
    "kernelspec": {
      "name": "python3",
      "display_name": "Python 3"
    },
    "language_info": {
      "name": "python"
    }
  },
  "cells": [
    {
      "cell_type": "code",
      "execution_count": null,
      "metadata": {
        "id": "ls8Cdf8aT_iQ"
      },
      "outputs": [],
      "source": [
        "#Importar dados essenciais\n",
        "import pandas as pd\n",
        "import numpy as np\n",
        "from keras.models import Sequential\n",
        "from keras.layers import Dense, Flatten, Conv2D, MaxPooling2D, Dropout\n",
        "from tensorflow.keras.utils import to_categorical\n",
        "from keras.preprocessing.image import ImageDataGenerator\n",
        "from tensorflow.keras.layers import BatchNormalization"
      ]
    },
    {
      "cell_type": "code",
      "source": [
        "#Reading image files\n",
        "from google.colab import drive\n",
        "drive.mount('/content/drive/')"
      ],
      "metadata": {
        "colab": {
          "base_uri": "https://localhost:8080/"
        },
        "id": "OlLHVuWFUUCT",
        "outputId": "c91c23f7-d396-4527-bfcb-f5c1d9e431ba"
      },
      "execution_count": null,
      "outputs": [
        {
          "output_type": "stream",
          "name": "stdout",
          "text": [
            "Drive already mounted at /content/drive/; to attempt to forcibly remount, call drive.mount(\"/content/drive/\", force_remount=True).\n"
          ]
        }
      ]
    },
    {
      "cell_type": "code",
      "source": [
        "#Image generator\n",
        "gerador_treinamento  = ImageDataGenerator(rescale = 1./255,\n",
        "                                          rotation_range = 7,\n",
        "                                          horizontal_flip = True,\n",
        "                                          shear_range = 0.2,\n",
        "                                          height_shift_range = 0.07,\n",
        "                                          zoom_range = 0.2)\n",
        "gerador_teste = ImageDataGenerator(rescale = 1./255)"
      ],
      "metadata": {
        "id": "0oS50RZbUilq"
      },
      "execution_count": null,
      "outputs": []
    },
    {
      "cell_type": "code",
      "source": [
        "base_treinamento = gerador_treinamento.flow_from_directory('/content/drive/My Drive/CursoIA/ClassBartHomer/dataset_personagens/training_set',\n",
        "                                                           target_size = (64,64),\n",
        "                                                           batch_size = 10,\n",
        "                                                           class_mode = 'binary')"
      ],
      "metadata": {
        "colab": {
          "base_uri": "https://localhost:8080/"
        },
        "id": "LdwTQsnAVWUp",
        "outputId": "0d298578-bf0b-4a33-d8f2-d4cab2a31031"
      },
      "execution_count": null,
      "outputs": [
        {
          "output_type": "stream",
          "name": "stdout",
          "text": [
            "Found 196 images belonging to 2 classes.\n"
          ]
        }
      ]
    },
    {
      "cell_type": "code",
      "source": [
        "base_test = gerador_teste.flow_from_directory('/content/drive/My Drive/CursoIA/ClassBartHomer/dataset_personagens/test_set',\n",
        "                                                           target_size = (64,64),\n",
        "                                                           batch_size = 10,\n",
        "                                                           class_mode = 'binary')"
      ],
      "metadata": {
        "colab": {
          "base_uri": "https://localhost:8080/"
        },
        "id": "SKT_8j4mVdTO",
        "outputId": "47fb0657-bd26-48f5-e25d-02ef0b7a3408"
      },
      "execution_count": null,
      "outputs": [
        {
          "output_type": "stream",
          "name": "stdout",
          "text": [
            "Found 73 images belonging to 2 classes.\n"
          ]
        }
      ]
    },
    {
      "cell_type": "code",
      "source": [
        "classificador = Sequential()\n",
        "classificador.add(Conv2D(32, (3,3), input_shape=(64,64,3), activation= 'relu'))\n",
        "classificador.add(BatchNormalization())\n",
        "classificador.add(MaxPooling2D(pool_size = (2,2)))\n",
        "\n",
        "classificador.add(Conv2D(32, (3,3), activation= 'relu'))\n",
        "classificador.add(BatchNormalization())\n",
        "classificador.add(MaxPooling2D(pool_size = (2,2)))\n",
        "\n",
        "classificador.add(Flatten())\n",
        "\n",
        "classificador.add(Dense(units = 128, activation = 'relu'))\n",
        "classificador.add(Dropout(0.2))\n",
        "classificador.add(Dense(units = 128, activation = 'relu'))\n",
        "classificador.add(Dropout(0.2))\n",
        "classificador.add(Dense(units = 1, activation = 'sigmoid'))\n",
        "\n",
        "classificador.compile(optimizer = 'adam', loss = 'binary_crossentropy',\n",
        "                      metrics = ['accuracy'])"
      ],
      "metadata": {
        "id": "TAWGjIfUV37U"
      },
      "execution_count": null,
      "outputs": []
    },
    {
      "cell_type": "code",
      "source": [
        "len(base_treinamento.filepaths)/base_treinamento.batch_size"
      ],
      "metadata": {
        "colab": {
          "base_uri": "https://localhost:8080/"
        },
        "id": "LqXY8pAfZD1x",
        "outputId": "bfb34f11-205b-49a5-df23-1d5af8aa6fca"
      },
      "execution_count": null,
      "outputs": [
        {
          "output_type": "execute_result",
          "data": {
            "text/plain": [
              "6.125"
            ]
          },
          "metadata": {},
          "execution_count": 30
        }
      ]
    },
    {
      "cell_type": "code",
      "source": [
        "classificador.fit(base_treinamento, steps_per_epoch = len(base_treinamento),\n",
        "                  epochs = 30, validation_data = base_test,\n",
        "                  validation_steps = len(base_test))"
      ],
      "metadata": {
        "colab": {
          "base_uri": "https://localhost:8080/"
        },
        "id": "gmvCnIFIV76e",
        "outputId": "f76740a6-7b81-4a63-e7ac-5780b3078581"
      },
      "execution_count": null,
      "outputs": [
        {
          "output_type": "stream",
          "name": "stdout",
          "text": [
            "Epoch 1/30\n",
            "20/20 [==============================] - 3s 166ms/step - loss: 0.1341 - accuracy: 0.9592 - val_loss: 6.8750 - val_accuracy: 0.4384\n",
            "Epoch 2/30\n",
            "20/20 [==============================] - 3s 136ms/step - loss: 0.2218 - accuracy: 0.9388 - val_loss: 1.2138 - val_accuracy: 0.7534\n",
            "Epoch 3/30\n",
            "20/20 [==============================] - 4s 222ms/step - loss: 0.2225 - accuracy: 0.9337 - val_loss: 1.7796 - val_accuracy: 0.7260\n",
            "Epoch 4/30\n",
            "20/20 [==============================] - 3s 134ms/step - loss: 0.1558 - accuracy: 0.9337 - val_loss: 1.0800 - val_accuracy: 0.7945\n",
            "Epoch 5/30\n",
            "20/20 [==============================] - 3s 142ms/step - loss: 0.1087 - accuracy: 0.9643 - val_loss: 0.4873 - val_accuracy: 0.8493\n",
            "Epoch 6/30\n",
            "20/20 [==============================] - 3s 137ms/step - loss: 0.0953 - accuracy: 0.9490 - val_loss: 0.7109 - val_accuracy: 0.8082\n",
            "Epoch 7/30\n",
            "20/20 [==============================] - 3s 166ms/step - loss: 0.1171 - accuracy: 0.9490 - val_loss: 0.8328 - val_accuracy: 0.8356\n",
            "Epoch 8/30\n",
            "20/20 [==============================] - 3s 134ms/step - loss: 0.0581 - accuracy: 0.9796 - val_loss: 1.0868 - val_accuracy: 0.8082\n",
            "Epoch 9/30\n",
            "20/20 [==============================] - 3s 152ms/step - loss: 0.1065 - accuracy: 0.9745 - val_loss: 1.0633 - val_accuracy: 0.7534\n",
            "Epoch 10/30\n",
            "20/20 [==============================] - 3s 140ms/step - loss: 0.0330 - accuracy: 0.9847 - val_loss: 0.6977 - val_accuracy: 0.8082\n",
            "Epoch 11/30\n",
            "20/20 [==============================] - 3s 128ms/step - loss: 0.0410 - accuracy: 0.9847 - val_loss: 0.8350 - val_accuracy: 0.7945\n",
            "Epoch 12/30\n",
            "20/20 [==============================] - 4s 174ms/step - loss: 0.0760 - accuracy: 0.9796 - val_loss: 1.1570 - val_accuracy: 0.7671\n",
            "Epoch 13/30\n",
            "20/20 [==============================] - 3s 139ms/step - loss: 0.0918 - accuracy: 0.9796 - val_loss: 0.8270 - val_accuracy: 0.8356\n",
            "Epoch 14/30\n",
            "20/20 [==============================] - 3s 137ms/step - loss: 0.0646 - accuracy: 0.9796 - val_loss: 1.1099 - val_accuracy: 0.8082\n",
            "Epoch 15/30\n",
            "20/20 [==============================] - 4s 199ms/step - loss: 0.0289 - accuracy: 0.9949 - val_loss: 0.9409 - val_accuracy: 0.7945\n",
            "Epoch 16/30\n",
            "20/20 [==============================] - 3s 132ms/step - loss: 0.0535 - accuracy: 0.9796 - val_loss: 1.1632 - val_accuracy: 0.7945\n",
            "Epoch 17/30\n",
            "20/20 [==============================] - 3s 132ms/step - loss: 0.0429 - accuracy: 0.9949 - val_loss: 1.3657 - val_accuracy: 0.8219\n",
            "Epoch 18/30\n",
            "20/20 [==============================] - 3s 137ms/step - loss: 0.0431 - accuracy: 0.9847 - val_loss: 1.1992 - val_accuracy: 0.8219\n",
            "Epoch 19/30\n",
            "20/20 [==============================] - 3s 136ms/step - loss: 0.0250 - accuracy: 0.9898 - val_loss: 1.5821 - val_accuracy: 0.7808\n",
            "Epoch 20/30\n",
            "20/20 [==============================] - 4s 216ms/step - loss: 0.0550 - accuracy: 0.9847 - val_loss: 0.8258 - val_accuracy: 0.8767\n",
            "Epoch 21/30\n",
            "20/20 [==============================] - 3s 138ms/step - loss: 0.0405 - accuracy: 0.9898 - val_loss: 0.8056 - val_accuracy: 0.8630\n",
            "Epoch 22/30\n",
            "20/20 [==============================] - 3s 138ms/step - loss: 0.0374 - accuracy: 0.9847 - val_loss: 0.7440 - val_accuracy: 0.8767\n",
            "Epoch 23/30\n",
            "20/20 [==============================] - 3s 141ms/step - loss: 0.0386 - accuracy: 0.9847 - val_loss: 0.8079 - val_accuracy: 0.8767\n",
            "Epoch 24/30\n",
            "20/20 [==============================] - 4s 198ms/step - loss: 0.0372 - accuracy: 0.9898 - val_loss: 0.9007 - val_accuracy: 0.8630\n",
            "Epoch 25/30\n",
            "20/20 [==============================] - 3s 132ms/step - loss: 0.0288 - accuracy: 0.9847 - val_loss: 0.6999 - val_accuracy: 0.8767\n",
            "Epoch 26/30\n",
            "20/20 [==============================] - 3s 135ms/step - loss: 0.0468 - accuracy: 0.9796 - val_loss: 0.7478 - val_accuracy: 0.8630\n",
            "Epoch 27/30\n",
            "20/20 [==============================] - 4s 206ms/step - loss: 0.0248 - accuracy: 0.9898 - val_loss: 0.5477 - val_accuracy: 0.9041\n",
            "Epoch 28/30\n",
            "20/20 [==============================] - 3s 131ms/step - loss: 0.0516 - accuracy: 0.9796 - val_loss: 0.5910 - val_accuracy: 0.8630\n",
            "Epoch 29/30\n",
            "20/20 [==============================] - 3s 138ms/step - loss: 0.1146 - accuracy: 0.9847 - val_loss: 0.8835 - val_accuracy: 0.8630\n",
            "Epoch 30/30\n",
            "20/20 [==============================] - 3s 134ms/step - loss: 0.0214 - accuracy: 0.9898 - val_loss: 0.8823 - val_accuracy: 0.8767\n"
          ]
        },
        {
          "output_type": "execute_result",
          "data": {
            "text/plain": [
              "<keras.src.callbacks.History at 0x7af60ad879d0>"
            ]
          },
          "metadata": {},
          "execution_count": 93
        }
      ]
    },
    {
      "cell_type": "code",
      "source": [
        "#Predicting\n",
        "from keras.preprocessing import image\n",
        "from keras.utils import img_to_array\n",
        "print(base_treinamento.class_indices)\n",
        "resultados = []\n",
        "for path in base_test.filepaths:\n",
        "  imagem_teste = image.load_img(path, target_size = (64,64))\n",
        "  imagem_teste = img_to_array(imagem_teste)\n",
        "  imagem_teste /= 255\n",
        "  imagem_teste = np.expand_dims(imagem_teste, axis =0)\n",
        "\n",
        "  previsao = classificador.predict(imagem_teste)\n",
        "  classe_real = path.split('/')\n",
        "  classe_real = classe_real[len(classe_real)-2]\n",
        "  classe_prevista = 'bart' if previsao<0.55 else 'homer'\n",
        "  percent = previsao[0]*100\n",
        "\n",
        "  print(f'Classe real: {classe_real} = Classe prevista: { classe_prevista} Percent = {percent}%')"
      ],
      "metadata": {
        "colab": {
          "base_uri": "https://localhost:8080/"
        },
        "id": "tpjnU2VuWCDt",
        "outputId": "a7b216fe-c4cb-4dcf-b3ec-bf33e58e54d5"
      },
      "execution_count": null,
      "outputs": [
        {
          "output_type": "stream",
          "name": "stdout",
          "text": [
            "{'bart': 0, 'homer': 1}\n",
            "1/1 [==============================] - 0s 100ms/step\n",
            "Classe real: bart = Classe prevista: bart Percent = [4.61064e-08]%\n",
            "1/1 [==============================] - 0s 23ms/step\n",
            "Classe real: bart = Classe prevista: bart Percent = [7.3548966e-07]%\n",
            "1/1 [==============================] - 0s 22ms/step\n",
            "Classe real: bart = Classe prevista: homer Percent = [99.90565]%\n",
            "1/1 [==============================] - 0s 24ms/step\n",
            "Classe real: bart = Classe prevista: bart Percent = [4.2248927e-10]%\n",
            "1/1 [==============================] - 0s 22ms/step\n",
            "Classe real: bart = Classe prevista: bart Percent = [3.9654484e-09]%\n",
            "1/1 [==============================] - 0s 22ms/step\n",
            "Classe real: bart = Classe prevista: bart Percent = [6.3763565e-12]%\n",
            "1/1 [==============================] - 0s 23ms/step\n",
            "Classe real: bart = Classe prevista: bart Percent = [1.3591708e-10]%\n",
            "1/1 [==============================] - 0s 22ms/step\n",
            "Classe real: bart = Classe prevista: bart Percent = [1.21209816e-08]%\n",
            "1/1 [==============================] - 0s 23ms/step\n",
            "Classe real: bart = Classe prevista: bart Percent = [0.00034174]%\n",
            "1/1 [==============================] - 0s 22ms/step\n",
            "Classe real: bart = Classe prevista: bart Percent = [2.1643252]%\n",
            "1/1 [==============================] - 0s 24ms/step\n",
            "Classe real: bart = Classe prevista: bart Percent = [0.00046383]%\n",
            "1/1 [==============================] - 0s 23ms/step\n",
            "Classe real: bart = Classe prevista: bart Percent = [0.00815769]%\n",
            "1/1 [==============================] - 0s 26ms/step\n",
            "Classe real: bart = Classe prevista: bart Percent = [4.6433467e-08]%\n",
            "1/1 [==============================] - 0s 22ms/step\n",
            "Classe real: bart = Classe prevista: bart Percent = [1.2973889e-08]%\n",
            "1/1 [==============================] - 0s 22ms/step\n",
            "Classe real: bart = Classe prevista: bart Percent = [13.99692]%\n",
            "1/1 [==============================] - 0s 22ms/step\n",
            "Classe real: bart = Classe prevista: bart Percent = [9.393227e-08]%\n",
            "1/1 [==============================] - 0s 23ms/step\n",
            "Classe real: bart = Classe prevista: bart Percent = [6.176291e-11]%\n",
            "1/1 [==============================] - 0s 25ms/step\n",
            "Classe real: bart = Classe prevista: bart Percent = [2.1814635e-11]%\n",
            "1/1 [==============================] - 0s 23ms/step\n",
            "Classe real: bart = Classe prevista: bart Percent = [0.00447167]%\n",
            "1/1 [==============================] - 0s 23ms/step\n",
            "Classe real: bart = Classe prevista: bart Percent = [2.9147477e-05]%\n",
            "1/1 [==============================] - 0s 22ms/step\n",
            "Classe real: bart = Classe prevista: bart Percent = [9.922824e-06]%\n",
            "1/1 [==============================] - 0s 24ms/step\n",
            "Classe real: bart = Classe prevista: bart Percent = [7.317026e-09]%\n",
            "1/1 [==============================] - 0s 26ms/step\n",
            "Classe real: bart = Classe prevista: bart Percent = [0.02368687]%\n",
            "1/1 [==============================] - 0s 30ms/step\n",
            "Classe real: bart = Classe prevista: bart Percent = [6.8508526e-14]%\n",
            "1/1 [==============================] - 0s 22ms/step\n",
            "Classe real: bart = Classe prevista: bart Percent = [6.621171e-09]%\n",
            "1/1 [==============================] - 0s 23ms/step\n",
            "Classe real: bart = Classe prevista: bart Percent = [8.8321065e-07]%\n",
            "1/1 [==============================] - 0s 24ms/step\n",
            "Classe real: bart = Classe prevista: bart Percent = [1.8277189]%\n",
            "1/1 [==============================] - 0s 22ms/step\n",
            "Classe real: bart = Classe prevista: bart Percent = [2.2479262e-05]%\n",
            "1/1 [==============================] - 0s 24ms/step\n",
            "Classe real: bart = Classe prevista: bart Percent = [6.7219545e-08]%\n",
            "1/1 [==============================] - 0s 23ms/step\n",
            "Classe real: bart = Classe prevista: bart Percent = [0.01319735]%\n",
            "1/1 [==============================] - 0s 24ms/step\n",
            "Classe real: bart = Classe prevista: bart Percent = [7.3769364e-08]%\n",
            "1/1 [==============================] - 0s 23ms/step\n",
            "Classe real: bart = Classe prevista: bart Percent = [3.4083672e-15]%\n",
            "1/1 [==============================] - 0s 22ms/step\n",
            "Classe real: bart = Classe prevista: bart Percent = [5.2677107e-10]%\n",
            "1/1 [==============================] - 0s 23ms/step\n",
            "Classe real: bart = Classe prevista: bart Percent = [7.893703e-12]%\n",
            "1/1 [==============================] - 0s 23ms/step\n",
            "Classe real: bart = Classe prevista: bart Percent = [7.9883444e-10]%\n",
            "1/1 [==============================] - 0s 23ms/step\n",
            "Classe real: bart = Classe prevista: bart Percent = [3.2154997e-08]%\n",
            "1/1 [==============================] - 0s 26ms/step\n",
            "Classe real: bart = Classe prevista: bart Percent = [1.9689443e-10]%\n",
            "1/1 [==============================] - 0s 24ms/step\n",
            "Classe real: bart = Classe prevista: bart Percent = [0.13356394]%\n",
            "1/1 [==============================] - 0s 24ms/step\n",
            "Classe real: bart = Classe prevista: bart Percent = [1.651125e-10]%\n",
            "1/1 [==============================] - 0s 25ms/step\n",
            "Classe real: bart = Classe prevista: bart Percent = [9.97323e-08]%\n",
            "1/1 [==============================] - 0s 22ms/step\n",
            "Classe real: bart = Classe prevista: bart Percent = [5.541865e-07]%\n",
            "1/1 [==============================] - 0s 24ms/step\n",
            "Classe real: bart = Classe prevista: bart Percent = [1.5837012e-09]%\n",
            "1/1 [==============================] - 0s 23ms/step\n",
            "Classe real: homer = Classe prevista: bart Percent = [0.00188362]%\n",
            "1/1 [==============================] - 0s 23ms/step\n",
            "Classe real: homer = Classe prevista: homer Percent = [100.]%\n",
            "1/1 [==============================] - 0s 23ms/step\n",
            "Classe real: homer = Classe prevista: homer Percent = [99.998405]%\n",
            "1/1 [==============================] - 0s 23ms/step\n",
            "Classe real: homer = Classe prevista: homer Percent = [93.23977]%\n",
            "1/1 [==============================] - 0s 24ms/step\n",
            "Classe real: homer = Classe prevista: bart Percent = [0.06571838]%\n",
            "1/1 [==============================] - 0s 24ms/step\n",
            "Classe real: homer = Classe prevista: bart Percent = [0.00039904]%\n",
            "1/1 [==============================] - 0s 22ms/step\n",
            "Classe real: homer = Classe prevista: bart Percent = [0.02255771]%\n",
            "1/1 [==============================] - 0s 23ms/step\n",
            "Classe real: homer = Classe prevista: homer Percent = [100.]%\n",
            "1/1 [==============================] - 0s 23ms/step\n",
            "Classe real: homer = Classe prevista: homer Percent = [99.8998]%\n",
            "1/1 [==============================] - 0s 28ms/step\n",
            "Classe real: homer = Classe prevista: homer Percent = [100.]%\n",
            "1/1 [==============================] - 0s 23ms/step\n",
            "Classe real: homer = Classe prevista: homer Percent = [99.94285]%\n",
            "1/1 [==============================] - 0s 25ms/step\n",
            "Classe real: homer = Classe prevista: homer Percent = [100.]%\n",
            "1/1 [==============================] - 0s 23ms/step\n",
            "Classe real: homer = Classe prevista: homer Percent = [100.]%\n",
            "1/1 [==============================] - 0s 23ms/step\n",
            "Classe real: homer = Classe prevista: homer Percent = [100.]%\n",
            "1/1 [==============================] - 0s 23ms/step\n",
            "Classe real: homer = Classe prevista: bart Percent = [18.556803]%\n",
            "1/1 [==============================] - 0s 25ms/step\n",
            "Classe real: homer = Classe prevista: homer Percent = [99.77506]%\n",
            "1/1 [==============================] - 0s 22ms/step\n",
            "Classe real: homer = Classe prevista: homer Percent = [94.04944]%\n",
            "1/1 [==============================] - 0s 24ms/step\n",
            "Classe real: homer = Classe prevista: homer Percent = [99.9947]%\n",
            "1/1 [==============================] - 0s 22ms/step\n",
            "Classe real: homer = Classe prevista: homer Percent = [66.5811]%\n",
            "1/1 [==============================] - 0s 25ms/step\n",
            "Classe real: homer = Classe prevista: homer Percent = [99.99999]%\n",
            "1/1 [==============================] - 0s 23ms/step\n",
            "Classe real: homer = Classe prevista: bart Percent = [0.01063678]%\n",
            "1/1 [==============================] - 0s 23ms/step\n",
            "Classe real: homer = Classe prevista: homer Percent = [99.99977]%\n",
            "1/1 [==============================] - 0s 23ms/step\n",
            "Classe real: homer = Classe prevista: homer Percent = [84.82897]%\n",
            "1/1 [==============================] - 0s 26ms/step\n",
            "Classe real: homer = Classe prevista: homer Percent = [99.99966]%\n",
            "1/1 [==============================] - 0s 22ms/step\n",
            "Classe real: homer = Classe prevista: homer Percent = [100.]%\n",
            "1/1 [==============================] - 0s 23ms/step\n",
            "Classe real: homer = Classe prevista: bart Percent = [5.054614]%\n",
            "1/1 [==============================] - 0s 32ms/step\n",
            "Classe real: homer = Classe prevista: homer Percent = [88.96024]%\n",
            "1/1 [==============================] - 0s 22ms/step\n",
            "Classe real: homer = Classe prevista: homer Percent = [83.44174]%\n",
            "1/1 [==============================] - 0s 24ms/step\n",
            "Classe real: homer = Classe prevista: bart Percent = [3.3840365]%\n",
            "1/1 [==============================] - 0s 23ms/step\n",
            "Classe real: homer = Classe prevista: homer Percent = [99.80451]%\n",
            "1/1 [==============================] - 0s 26ms/step\n",
            "Classe real: homer = Classe prevista: homer Percent = [99.999985]%\n"
          ]
        }
      ]
    },
    {
      "cell_type": "code",
      "source": [
        "batch_images = next(base_treinamento)[0]\n",
        "batch_size = 4\n",
        "import matplotlib.pyplot as plt\n",
        "# Create subplots\n",
        "fig, ax = plt.subplots(nrows=1, ncols=batch_size, figsize=(15, 15))\n",
        "# Iterate through the batch of images and display them\n",
        "for i in range(batch_size):\n",
        "  image = batch_images[i]\n",
        "  ax[i].imshow(image, cmap='gray', vmin=0, vmax=65535) # Display using a grayscale colormap and 16-bit range\n",
        "  ax[i].axis('off')\n",
        "  plt.show()"
      ],
      "metadata": {
        "colab": {
          "base_uri": "https://localhost:8080/",
          "height": 1000
        },
        "id": "UZxkESTXdalm",
        "outputId": "38a45561-1d7e-4327-e25e-38c3358b683b"
      },
      "execution_count": null,
      "outputs": [
        {
          "output_type": "display_data",
          "data": {
            "text/plain": [
              "<Figure size 1500x1500 with 4 Axes>"
            ],
            "image/png": "[encoded data removed]"
          },
          "metadata": {}
        }
      ]
    }
  ]
}